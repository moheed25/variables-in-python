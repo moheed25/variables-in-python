{
 "cells": [
  {
   "cell_type": "code",
   "execution_count": 1,
   "id": "3ba7dd64",
   "metadata": {},
   "outputs": [
    {
     "name": "stdout",
     "output_type": "stream",
     "text": [
      "shradha\n",
      "22\n"
     ]
    }
   ],
   "source": [
    "#Variables\n",
    "\n",
    "#Basic Types in Python -  numbers(integers, floating), boolean, strings \n",
    "\n",
    "\n",
    "name = \"shradha\"\n",
    "age = 22\n",
    "print(name)\n",
    "print(age)\n",
    "\n",
    "\n"
   ]
  },
  {
   "cell_type": "code",
   "execution_count": 2,
   "id": "d36dbd15",
   "metadata": {},
   "outputs": [
    {
     "name": "stdout",
     "output_type": "stream",
     "text": [
      "aman\n",
      "24\n"
     ]
    }
   ],
   "source": [
    "name = \"shradha\"\n",
    "age = 22\n",
    "name = \"aman\"\n",
    "age = 24\n",
    "print(name)\n",
    "print(age)"
   ]
  },
  {
   "cell_type": "code",
   "execution_count": 3,
   "id": "7dddfd54",
   "metadata": {},
   "outputs": [
    {
     "name": "stdout",
     "output_type": "stream",
     "text": [
      "shradha khapra\n",
      "19\n",
      "True\n"
     ]
    }
   ],
   "source": [
    "first_name = \"shradha\"\n",
    "last_name = \"khapra\"\n",
    "age = 19\n",
    "is_adult = True\n",
    "\n",
    "print(first_name + \" \" + last_name)\n",
    "print(age)\n",
    "print(is_adult)\n"
   ]
  },
  {
   "cell_type": "code",
   "execution_count": null,
   "id": "96f12188",
   "metadata": {},
   "outputs": [],
   "source": []
  }
 ],
 "metadata": {
  "kernelspec": {
   "display_name": "Python 3 (ipykernel)",
   "language": "python",
   "name": "python3"
  },
  "language_info": {
   "codemirror_mode": {
    "name": "ipython",
    "version": 3
   },
   "file_extension": ".py",
   "mimetype": "text/x-python",
   "name": "python",
   "nbconvert_exporter": "python",
   "pygments_lexer": "ipython3",
   "version": "3.9.12"
  }
 },
 "nbformat": 4,
 "nbformat_minor": 5
}
